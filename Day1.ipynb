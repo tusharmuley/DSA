{
 "cells": [
  {
   "cell_type": "code",
   "execution_count": 6,
   "id": "54609790-0da4-41dd-b8b4-6f0a9efe78da",
   "metadata": {},
   "outputs": [
    {
     "name": "stdout",
     "output_type": "stream",
     "text": [
      "2\n"
     ]
    }
   ],
   "source": [
    "## Binary Search --\n",
    "def binary(arr, target):\n",
    "    start , end = 0, len(arr)-1\n",
    "    while start<=end:\n",
    "        mid = (start + end) // 2\n",
    "        if arr[mid] == target:\n",
    "            return mid\n",
    "        elif arr[mid] < target:\n",
    "            start = mid+1\n",
    "        else:\n",
    "            end = mid -1\n",
    "    return -1\n",
    "\n",
    "arr=[1,2,3,4,5,6,7]\n",
    "target=3\n",
    "print(binary(arr, target))"
   ]
  },
  {
   "cell_type": "code",
   "execution_count": 17,
   "id": "7a86ca32-6fe5-4186-95ee-1e3cf3d502c8",
   "metadata": {},
   "outputs": [
    {
     "name": "stdout",
     "output_type": "stream",
     "text": [
      "eeeeaaarrd\n"
     ]
    }
   ],
   "source": [
    "def frequencySort(s: str) -> str:\n",
    "        # rev = s[::-1]\n",
    "        d={}\n",
    "        string=\"\"\n",
    "        for i in s:\n",
    "            if i in d.keys():\n",
    "                d[i] +=1\n",
    "            else:\n",
    "                d[i] = 1\n",
    "        sorted_dict_desc = dict(sorted(d.items(), key=lambda item: item[1], reverse=True)) \n",
    "        for i in sorted_dict_desc:\n",
    "            string +=i*d[i]\n",
    "        return string\n",
    "\n",
    "\n",
    "print(frequencySort(s=\"raaeaedere\"))"
   ]
  },
  {
   "cell_type": "code",
   "execution_count": 11,
   "id": "8f1b9b19-bbe5-441c-974e-79e0b7aaeb19",
   "metadata": {},
   "outputs": [
    {
     "name": "stdout",
     "output_type": "stream",
     "text": [
      "10\n"
     ]
    }
   ],
   "source": [
    "for i in range(10,1,-21):\n",
    "    print(i)"
   ]
  }
 ],
 "metadata": {
  "kernelspec": {
   "display_name": "Python 3 (ipykernel)",
   "language": "python",
   "name": "python3"
  },
  "language_info": {
   "codemirror_mode": {
    "name": "ipython",
    "version": 3
   },
   "file_extension": ".py",
   "mimetype": "text/x-python",
   "name": "python",
   "nbconvert_exporter": "python",
   "pygments_lexer": "ipython3",
   "version": "3.11.2"
  }
 },
 "nbformat": 4,
 "nbformat_minor": 5
}
